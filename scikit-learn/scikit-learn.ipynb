{
 "cells": [
  {
   "cell_type": "markdown",
   "metadata": {},
   "source": [
    "`scikit-learn` makine öğrenmesi alanında Python için en yaygın kullanılan kütüphanelerden biri. Doğrusal regresyon, lojistik regresyon, karar ağaçları, rastgele orman gibi bir çok temel yöntemi içeren bu kütüphane Anaconda ile beraber geliyor. Anaconda kullanmayanlar [web](http://scikit-learn.org/) sitesinden kütüphaneyi nasıl yükleyeceklerini öğrenebilirler. \n",
    "\n",
    "`scikit-learn` paketinin bu kadar popüler olmasının birkaç sebebi var. Bunlardan ilki temel yöntemlerin büyük kısmını içermesi. Bu sayede veri analitiğine yeni başlayanlar hızla ellerini kirletebiliyorlar. İkinci olarak, `scikit-learn` sayesinde veri analitiği uygulamalarını baştan sona yürütmenizin mümkün olmasını sayabiliriz. Verideki eksikleri doldurmak, öznitelik seçmek, sonuçları değerlendirmek için ayrı ayrı modüller sayesinde başka bir pakete ihtiyacınız kalmıyor. `scikit-learn` paketinin en güzel yanı basit bir API'a sahip olması sayesinde uygulayacağınız farklı yöntemler için farklı syntaxlar öğrenmenizin önüne geçmesi. `fit/predict` ya da `fit/transform` fonksiyonları sayesinde kümeleme, regresyon, karar ağaçları gibi yöntemleri uygulamak, eksik değerleri doldurmak, veriyi ölçeklendirmek gibi çok farklı adımlarda aynı fonksiyonları kullanmak işinizi oldukça kolaylaştırıyor. API basit olmasının yanında çok iyi bir dokümantasyona sahip. \n",
    "\n",
    "`lightgbm`, `tensorflow` gibi kütüphaneler performans açısından ileride olsa da `scikit-learn` başlangıç seviyesindekiler için benim tavsiye edeceğim ilk kütüphane. Bu Veri Defteri'nde `scikit-learn` paketinin API'ını örnek üzerinden anlatıp, temel modüllerden bahsedeceğiz. Bu amaçla yine `scikit-learn` altındaki veri setlerini kullanacağız.\n",
    "\n",
    "Örneği sınıflandırma üzerinden yapacağız. Bu amaçla `digits` veri setini kullanacağız. `digits` veri seti 10 rakamın piksel ($8 \\times 8 = 64$) değerlerinden oluşuyor. Kaan Hoca bu veri setinden bir [yazısında](http://www.veridefteri.com/2017/11/03/yeni-baslayanlar-icin-veri-kumeleri-cicekler-bebekler-filmler/) bahsetmişti.  Veri setinde 3 ve 8 rakamlarını sınıflandırmaya çalışacağız. Kullanacağımız modülleri, veri setini yüklelim ve veri setini ikiye bölelim."
   ]
  },
  {
   "cell_type": "code",
   "execution_count": 14,
   "metadata": {},
   "outputs": [
    {
     "name": "stdout",
     "output_type": "stream",
     "text": [
      "(Gözlem, öznitelik) = (1797, 64)\n",
      "(Gözlem) = (1797,)\n"
     ]
    }
   ],
   "source": [
    "#Rakamlar veri setini yüklüyoruz.\n",
    "from sklearn.datasets import load_digits\n",
    "#numpy paketini yüklüyoruz.\n",
    "import numpy as np\n",
    "#Veri setini ikiye bölmek için\n",
    "from sklearn.model_selection import train_test_split\n",
    "#Resimleri incelemek için matplotlib kullanıyoruz.\n",
    "%matplotlib inline\n",
    "import matplotlib.pyplot as plt\n",
    "\n",
    "#Veri setini etiket değerleriyle birlikte yükleyelim.\n",
    "X,y = load_digits(return_X_y=True)\n",
    "print('(Gözlem, öznitelik) = ' + str(np.shape(X)))\n",
    "print('(Gözlem) = ' + str(np.shape(y)))"
   ]
  },
  {
   "cell_type": "markdown",
   "metadata": {},
   "source": [
    "Veri seti 64 öznitelik (bunlar piksellerin değerlerine denk geliyor) ve 1797 gözlemden oluşuyor. Veri setinin ilk rakamını inceleyerek başlayalım. Rakamı çizdirmek için (1,64) olan boyutu (8,8) şeklinde değiştirmemiz gerekiyor. Bu amaçla da `numpy` altında `reshape` fonksiyonunu kullanacağız."
   ]
  },
  {
   "cell_type": "code",
   "execution_count": 15,
   "metadata": {},
   "outputs": [
    {
     "data": {
      "image/png": "[encoded data removed]",
      "text/plain": [
       "<matplotlib.figure.Figure at 0x477cc86710>"
      ]
     },
     "metadata": {},
     "output_type": "display_data"
    },
    {
     "name": "stdout",
     "output_type": "stream",
     "text": [
      "Etiket: 0\n"
     ]
    }
   ],
   "source": [
    "rakam1 = X[0]\n",
    "rakam1 = np.reshape(rakam1, (8,8))\n",
    "\n",
    "plt.figure(figsize= (2,2))\n",
    "plt.imshow(rakam1, cmap=\"gray_r\")\n",
    "plt.show()\n",
    "etiket1 = y[0]\n",
    "print('Etiket: ' + str(etiket1))"
   ]
  },
  {
   "cell_type": "markdown",
   "metadata": {},
   "source": [
    "Gördüğümüz gibi ilk rakam 0. Biz veri setindeki 3 ve 8 rakamlarını ayırmak istiyoruz. Bu amaçla filtreleme kullanacağız. Eğer bir rakam beşe bölündüğünde kalan üç ise istediğimiz koşulları sağlıyor."
   ]
  },
  {
   "cell_type": "code",
   "execution_count": 16,
   "metadata": {
    "collapsed": true
   },
   "outputs": [],
   "source": [
    "#3 ve 8 rakamlarını seçmek için filtreleme kullanacağız.\n",
    "#Filtrelemeyi etiket değerlerine (y) bakarak yapacağız. \n",
    "#Etiket değeri beşe bölündüğünde kalan üç ise bu gözlemleri veri setinde bırakıyoruz.\n",
    "X= X[y%5 == 3]\n",
    "y= y[y%5 == 3]\n",
    "\n",
    "#Son olarak etiketleri 0 ve 1 değerlerine çevirelim.\n",
    "#Rakam 3 ise etiket 0, 8 ise 1 olacak.\n",
    "y = (y==8)*1"
   ]
  },
  {
   "cell_type": "markdown",
   "metadata": {
    "collapsed": true
   },
   "source": [
    "Modelleri test etmek için veri setini train ve test olarak ikiye bölelim. Bu da `scikit-learn` altında yapılabilecek bir işlem. Burada dikkat etmemiz gereken, veri setini bölerken etiketlerin yüzdelerini korumak. Bunun için de ekiket değerlerini de hesaba katarak bölmemiz gerekiyor. `stratify` argümanı bunu sağlıyor."
   ]
  },
  {
   "cell_type": "code",
   "execution_count": 17,
   "metadata": {},
   "outputs": [
    {
     "name": "stdout",
     "output_type": "stream",
     "text": [
      "(Gözlem, öznitelik) = (178, 64)\n",
      "(Gözlem, öznitelik) = (179, 64)\n"
     ]
    }
   ],
   "source": [
    "#Stratify değeri veri setinin etiket yüzdelerini korumak için kullanılıyor.\n",
    "#Train veri setini küçük tutarak sonuçların çok iyi olmasını engelliyoruz.\n",
    "X_train, X_test, y_train, y_test = train_test_split(X,y, train_size = 0.5, test_size = 0.5, random_state = 0, stratify = y)\n",
    "\n",
    "print('(Gözlem, öznitelik) = ' + str(np.shape(X_train)))\n",
    "print('(Gözlem, öznitelik) = ' + str(np.shape(X_test)))"
   ]
  },
  {
   "cell_type": "markdown",
   "metadata": {},
   "source": [
    "Veri setini ikiye böldük. Şimdi sınıflandırma için karar ağacı ve rastgele orman yöntemlerini kullanıp karşılaştıralım. Bundan önce `scikit-learn` API'ndan bahsedelim. `scikit-learn`de yapacağınız birçok işlem için üç adımlık bir kullanım var.\n",
    "\n",
    "## Kullanacağınız sınıfa ait bir örnek oluşturma\n",
    "\n",
    "Örnek olarak bir karar ağacı oluşturmak ya da eksik değerleri ortalama değerle doldurmak istiyorsunuz. Bu amaçla gerekli sınıflara (class) ait örnekleri istediğiniz parametrelerle oluşturmanız gerekiyor..\n",
    "\n",
    "Örnek olarak `dt` adında bir karar ağacı oluşturmak için `DecisionTreeClassifier` sınıfını kullanıyoruz: \n",
    "\n",
    "`dt = DecisionTreeClassifier()`\n",
    "\n",
    "Eksik değerleri ortalama değerle değiştirmek için ise `Imputer` sınıfını kullanacağız. `NaN` şeklinde olan eksik değerleri ortalama (mean) değerle değiştirmek istediğimiz için bunu da argümanlarla belirtiyoruz:\n",
    "\n",
    "`mean_imputer = Imputer(missing_values = 'NaN', strategy = 'mean')` \n",
    "\n",
    "Aşağıda `dt` adında bir karar ağacı ve `rf` adında bir rastgele orman örneği tanımlıyoruz."
   ]
  },
  {
   "cell_type": "code",
   "execution_count": 18,
   "metadata": {
    "collapsed": true
   },
   "outputs": [],
   "source": [
    "#Karar ağaçları\n",
    "from sklearn.tree import DecisionTreeClassifier\n",
    "#Rastgele orman\n",
    "from sklearn.ensemble import RandomForestClassifier\n",
    "\n",
    "#Karar ağacı modelini oluşturalım\n",
    "dt = DecisionTreeClassifier()\n",
    "\n",
    "#Rastgele orman modelini oluşturalım.\n",
    "rf = RandomForestClassifier()"
   ]
  },
  {
   "cell_type": "markdown",
   "metadata": {},
   "source": [
    "## Oluşturduğumuz örneğin öğrenmesini sağlama (`fit`)\n",
    "\n",
    "Bir önceki aşamada oluşturduğumuz örneğin veri üzerinde eğitilmesi `fit` fonksiyonuyla yapılır. Örnek olarak bir karar ağacını öznitelik ve etiketleri kullanarak eğitmek için `fit` fonksiyonunu aşağıdaki gibi kullanabiliriz:\n",
    "\n",
    "`dt.fit(X_train, y_train)`\n",
    "\n",
    "Bu sayede öğrenme verisi üzerinden bir karar ağacı modeli oluşturulur. Eksik değerleri doldurmak için de `fit` fonksiyonunu kullanacağız. Ancak burada `fit` fonksiyonu yapacağımız işlemi tanımlıyor, herhangi bir değer döndürmüyor. Örnek olarak, aşağıdaki satırda `X_train` matriksindeki eksik değer içeren sütunlar için ortalama değeri hesaplıyor.\n",
    "\n",
    "`mean_imputer.fit(X_train)` \n",
    "\n",
    "Şimdi yukarıda oluşturduğumuz karar ağacı ve rastegele orman modellerini eğitelim."
   ]
  },
  {
   "cell_type": "code",
   "execution_count": 19,
   "metadata": {},
   "outputs": [
    {
     "data": {
      "text/plain": [
       "RandomForestClassifier(bootstrap=True, class_weight=None, criterion='gini',\n",
       "            max_depth=None, max_features='auto', max_leaf_nodes=None,\n",
       "            min_impurity_decrease=0.0, min_impurity_split=None,\n",
       "            min_samples_leaf=1, min_samples_split=2,\n",
       "            min_weight_fraction_leaf=0.0, n_estimators=10, n_jobs=1,\n",
       "            oob_score=False, random_state=None, verbose=0,\n",
       "            warm_start=False)"
      ]
     },
     "execution_count": 19,
     "metadata": {},
     "output_type": "execute_result"
    }
   ],
   "source": [
    "#Modellerii eğitelim\n",
    "dt.fit(X_train,y_train)\n",
    "rf.fit(X_train,y_train)"
   ]
  },
  {
   "cell_type": "markdown",
   "metadata": {},
   "source": [
    "## Sonuçları elde etmek (`predict`/`predict_proba` ve `transform`)\n",
    "\n",
    "Oluşturduğunuz modelleri eğittikten sonra sonuçları elde etmek için kullanabileceğiniz iki farklı fonksiyon tipi var.\n",
    "\n",
    "* `predict`: Regresyon, sınıflandırma, kümeleme gibi yöntemler kullanarak yapacağınız çalışmalarda tahmin edilen etiket bilgisini `predict` fonksiyonuyla elde edebiliirsiniz. Sınıflandırma problemlerinde gözlemlerin sınıflara ait olma olasılıklarını elde etmek istiyorsanız `predict_proba` fonksiyonunu kullanmanız gerekiyor.\n",
    "\n",
    "Yukarıda oluşturduğumuz karar ağacı için etiketleri elde etmek için aşağıdaki satıra ihtiyacımız var:\n",
    "\n",
    "`y_pred = dt.predict(X_test)`\n",
    "\n",
    "Eğer etiketleri değil de olasılıkları öğrenmek istiyorsak `predict_proba` fonksiyonunu kullanmamız gerekiyor.\n",
    "\n",
    "`y_pred_proba = dt.predict_proba(X_test)`\n",
    "\n",
    "* `transform`: Veriyle ilgili yapacağımız dönüştürme işlemlerinde ise `transform` fonksiyonunu kullanacağız. Dönüştürme işlemleri eksik veriyi doldurma, veriyi ölçeklendirme gibi alanlarda karşımıza çıkıyor. Aynı zamanda bir matriksi çarpanlarına ayırmak gibi işlemler için de `transform` fonksiyonu kullanılıyor.\n",
    "\n",
    "Eksik değerleri doldurmak için aşağıdaki satırı kullanabiliriz:\n",
    "\n",
    "`X_test = mean_imputer.transform(X_test)`\n",
    "\n",
    "Şimdi kullandığımız iki modeli test veri setinde kullanarak etiketleri ve gözlemlerin etiketlere ait olma olasılıklarını hesaplayalım. "
   ]
  },
  {
   "cell_type": "code",
   "execution_count": 20,
   "metadata": {
    "collapsed": true
   },
   "outputs": [],
   "source": [
    "#Test verisinin etiketlerini elde edelim\n",
    "y_pred_dt = dt.predict(X_test)\n",
    "#Test veri setinin sınıflara ait olma olasılıklarını alalım.\n",
    "y_pred_proba_dt = dt.predict_proba(X_test)\n",
    "\n",
    "#Aynı adımları rastgele orman yöntemi için tekrarlayalım.\n",
    "y_pred_rf = rf.predict(X_test)\n",
    "y_pred_proba_rf = rf.predict_proba(X_test)"
   ]
  },
  {
   "cell_type": "markdown",
   "metadata": {},
   "source": [
    "Burada dikkat etmemiz gereken bir nokta `fit` işlemlerini train, `predict` ve `transform` işlemlerini ise test veri seti üzerinden yapmaktır. Yapacağımız çalışmalardaki amacımız train veri setiyle yakaladığımız örüntüleri test veri setinde denemek. Eksik değerleri doldurmak gibi konularda da train veri setiyle elde ettiğimiz bilgileri (örnek olarak ortalamayı) test veri setinde kullanacağız. Sıklıkla yapılan bir hata test veri seti için de `fit` fonksiyonunu kullanmaktır.\n",
    "\n",
    "Aşağıdaki satırlarda train veri setindeki sütunlar için ortalama değeri bulup eksik değerleri dolduruyoruz. Daha sonra da test veri setindeki sütunlar için ortalama değerleri bulup eksik değerleri doldurmak için kullanıyoruz. Oysa ki yapmamız gereken test veri setinde de train veri setindeki ortalamaları kullanmak.\n",
    "\n",
    "`mean_imputer.fit(X_train)\n",
    "X_train = mean_imputer.transform(X_train)\n",
    "mean_imputer.fit(X_test)\n",
    "X_test = mean_imputer.transform(X_test)`"
   ]
  },
  {
   "cell_type": "markdown",
   "metadata": {},
   "source": [
    "# Sonuçları değerlendirmek ve yorumlamak\n",
    "\n",
    "`scikit-learn` modellerin sonuçlarını değerlendirmek ve yorumlamak için de çeşitli araçlar sunuyor. Sonuçları değerlendirmek için isabetlilik (accuracy) ve eğri altı alan (area under curve) değerlerini kullanacağız. `metrics` modülünün altında farklı tipteki modelleri değerlendirmek için başka araçlar da var."
   ]
  },
  {
   "cell_type": "code",
   "execution_count": 21,
   "metadata": {},
   "outputs": [
    {
     "name": "stdout",
     "output_type": "stream",
     "text": [
      "Karar ağacı isabetlilik değeri: 0.921787709497\n",
      "Rastgele orman isabetlilik değeri: 0.966480446927\n",
      "Karar ağacı eğri altı alan değeri: 0.922976011994\n",
      "Rastgele orman eğri altı alan değeri: 0.996939030485\n"
     ]
    }
   ],
   "source": [
    "#Sonuçları değerlendirmek için aşağıdaki fonksiyonları kullanacağız.\n",
    "from sklearn.metrics import roc_auc_score, accuracy_score\n",
    "#İsabetlilik değeri için etiketlere ihtiyacımız var\n",
    "print('Karar ağacı isabetlilik değeri: ' + str(accuracy_score(y_pred_dt, y_test)))\n",
    "print('Rastgele orman isabetlilik değeri: ' + str(accuracy_score(y_pred_rf, y_test)))\n",
    "\n",
    "#Eğri altı alan değeri için etiketlerin olasılıklarına ihtiyacımız var.\n",
    "print('Karar ağacı eğri altı alan değeri: ' + str(roc_auc_score(y_test, y_pred_proba_dt[:,1])))\n",
    "print('Rastgele orman eğri altı alan değeri: ' + str(roc_auc_score(y_test, y_pred_proba_rf[:,1])))"
   ]
  },
  {
   "cell_type": "markdown",
   "metadata": {},
   "source": [
    "İsabetlilik değeri ve eğri altı değeri de rastgele orman yönteminde daha yüksek çıktı. 3 ve 8 rakamlarını ayırmamızı sağlayan öznitelikler (piksel değerleri) hangileri? Şimdi de `features_importances_` özelliğini kullanarak modellerin bulduğu önemli piksellere bakalım. "
   ]
  },
  {
   "cell_type": "code",
   "execution_count": 34,
   "metadata": {},
   "outputs": [
    {
     "data": {
      "image/png": "[encoded data removed]",
      "text/plain": [
       "<matplotlib.figure.Figure at 0x477b338fd0>"
      ]
     },
     "metadata": {},
     "output_type": "display_data"
    },
    {
     "data": {
      "image/png": "[encoded data removed]",
      "text/plain": [
       "<matplotlib.figure.Figure at 0x477ced32b0>"
      ]
     },
     "metadata": {},
     "output_type": "display_data"
    }
   ],
   "source": [
    "features_dt = dt.feature_importances_\n",
    "features_rf = rf.feature_importances_\n",
    "\n",
    "features_dt = np.reshape(features_dt, (8,8))\n",
    "features_rf = np.reshape(features_rf, (8,8))\n",
    "\n",
    "\n",
    "plt.figure(figsize=(2,2))\n",
    "plt.imshow(features_dt)\n",
    "plt.title('Karar Ağacı')\n",
    "plt.colorbar()\n",
    "plt.show()\n",
    "\n",
    "\n",
    "plt.figure(figsize=(2,2))\n",
    "plt.imshow(features_rf)\n",
    "plt.title('Rastgele Orman')\n",
    "plt.colorbar()\n",
    "plt.show()\n"
   ]
  },
  {
   "cell_type": "markdown",
   "metadata": {
    "collapsed": true
   },
   "source": [
    "Önemli olan öznitelikler sarı ve açık mavi, önemsiz olanlarsa koyu mavi ile gösteriliyor. Karar ağaçları 3 piksele bakarken, rastgele orman yöntemi daha fazla piksele bakarak karar veriyor. İki yöntem de ağırlıklı olarak resmin sol tarafına bakıyor, yani resimlerin sol tarafı 3 ve 8 rakamlarını ayırmak önemli olan pikselleri içeriyor."
   ]
  },
  {
   "cell_type": "markdown",
   "metadata": {
    "collapsed": true
   },
   "source": [
    "# Diğer Modüller\n",
    "\n",
    "Bu Veri Defteri'nde sınıflandırma algoritmalarına bakmış olsak da `scikit-learn` altında başka modüller de var. Bunlardan sıklıkla kullanılanları aşağıda bulabilirsiniz:\n",
    "\n",
    "* `cluster`: Bu modül başta k-ortalamalar algoritması olmak üzere çeşitli kümeleme algoritmalarını içeriyor.\n",
    "* `ensemble`: Adaboost, gradient boosting ve rastgele orman gibi grup halinde (ensemble) tahmin yapan yöntemleri içeriyor.\n",
    "* `feature_selection`: Öznitelik seçme/azaltma yöntemlerini içeriyor.\n",
    "* `linear_model`: Başta doğrusal regresyon ve lojistik regresyon olmak üzere doğrusal yöntemleri içeriyor. Bu modül altında genelde regresyon yöntemleri bulunuyor.\n",
    "* `metrics`: Regresyon, sınıflandırma ve kümeleme problemlerinde elde ettiğiniz sonuçları değerlendirmek için kullanabileceğiniz araçları içeren bir modül.\n",
    "* `model_selection`: Çapraz doğrulama (cross-validation) ve veri setini bölmek için kullanabileceğiniz bir modül.\n",
    "* `neighbors`: Gözlemlerin birbirine yakınlığı üzerinden sınıflandırma ve regresyon uygulayan yöntemleri (k en yakın komşu yöntemi gibi) bir modül.\n",
    "* `neural_network`: Yapay sinir ağları üzerinden denemeler yapabileceğiniz bir modül. Ciddi bir çalışma gerçekleştirmek için başka paketlere ihtiyaç duyabilirsiniz.\n",
    "* `preprocessing`: Veri üzerinde ölçeklendirme, eksik değerleri doldurma ve kategorik değişkenleri ikili değerlere çevirmek gibi işlemleri yapabileceğiniz bir paket.\n",
    "* `svm`: Destek vektör makineleri paketi.\n",
    "* `tree`: Karar ağaçları paketi.\n",
    "\n",
    "\n"
   ]
  },
  {
   "cell_type": "code",
   "execution_count": null,
   "metadata": {
    "collapsed": true
   },
   "outputs": [],
   "source": []
  }
 ],
 "metadata": {
  "kernelspec": {
   "display_name": "Python 3",
   "language": "python",
   "name": "python3"
  },
  "language_info": {
   "codemirror_mode": {
    "name": "ipython",
    "version": 3
   },
   "file_extension": ".py",
   "mimetype": "text/x-python",
   "name": "python",
   "nbconvert_exporter": "python",
   "pygments_lexer": "ipython3",
   "version": "3.6.2"
  }
 },
 "nbformat": 4,
 "nbformat_minor": 2
}
